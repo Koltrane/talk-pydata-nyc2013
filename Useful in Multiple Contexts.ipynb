{
 "metadata": {
  "name": ""
 },
 "nbformat": 3,
 "nbformat_minor": 0,
 "worksheets": [
  {
   "cells": [
    {
     "cell_type": "heading",
     "level": 1,
     "metadata": {},
     "source": [
      "Attribute: Useful in Multiple Contexts"
     ]
    },
    {
     "cell_type": "code",
     "collapsed": false,
     "input": [
      "from IPython.display import display, Image, HTML\n",
      "from talktools import website, nbviewer"
     ],
     "language": "python",
     "metadata": {},
     "outputs": [],
     "prompt_number": 12
    },
    {
     "cell_type": "heading",
     "level": 2,
     "metadata": {},
     "source": [
      "Overview"
     ]
    },
    {
     "cell_type": "markdown",
     "metadata": {},
     "source": [
      "Scientific computing and data science are complex activities that involve a wide range of contexts:\n",
      "\n",
      "1. Individual, interactive exploration\n",
      "2. Debugging, testing\n",
      "3. Production runs\n",
      "4. Parallel computing\n",
      "5. Collaboration\n",
      "6. Publication\n",
      "7. Presentation\n",
      "8. Teaching/Learning\n",
      "\n",
      "There are a large number of software tools that we use across these different contexts:\n",
      "\n",
      "**Python Ruby Perl C C++ Fortran Numba Cython MPI Hadoop Excel LaTeX Powerpoint Word\n",
      "Keynote Vim Emacs Make JavaScript Matlab Mathematica**\n",
      "\n",
      "This places a massive cognitive burden on users. This burden has nothing to do with the  challenging technical problems users are trying to solve. This burden pulls them away from solving their actual problems.\n",
      "\n",
      "We are working really hard to make sure that IPython is useful in the following contexts."
     ]
    },
    {
     "cell_type": "heading",
     "level": 3,
     "metadata": {},
     "source": [
      "Interactive exploration"
     ]
    },
    {
     "cell_type": "markdown",
     "metadata": {},
     "source": [
      "First and foremost, IPython is an interactive environment for writing and running code. We provide features to make this as pleasant as possible."
     ]
    },
    {
     "cell_type": "markdown",
     "metadata": {},
     "source": [
      "Tab completion:"
     ]
    },
    {
     "cell_type": "code",
     "collapsed": false,
     "input": [
      "import math"
     ],
     "language": "python",
     "metadata": {},
     "outputs": [],
     "prompt_number": 4
    },
    {
     "cell_type": "code",
     "collapsed": false,
     "input": [
      "math."
     ],
     "language": "python",
     "metadata": {},
     "outputs": []
    },
    {
     "cell_type": "markdown",
     "metadata": {},
     "source": [
      "Interactive help:"
     ]
    },
    {
     "cell_type": "code",
     "collapsed": false,
     "input": [
      "math.cos?"
     ],
     "language": "python",
     "metadata": {},
     "outputs": [],
     "prompt_number": 5
    },
    {
     "cell_type": "markdown",
     "metadata": {},
     "source": [
      "Inline plotting:"
     ]
    },
    {
     "cell_type": "code",
     "collapsed": false,
     "input": [
      "%pylab inline"
     ],
     "language": "python",
     "metadata": {},
     "outputs": [
      {
       "output_type": "stream",
       "stream": "stdout",
       "text": [
        "Populating the interactive namespace from numpy and matplotlib\n"
       ]
      }
     ],
     "prompt_number": 6
    },
    {
     "cell_type": "code",
     "collapsed": false,
     "input": [
      "plot(rand(50))"
     ],
     "language": "python",
     "metadata": {},
     "outputs": [
      {
       "metadata": {},
       "output_type": "pyout",
       "prompt_number": 7,
       "text": [
        "[<matplotlib.lines.Line2D at 0x108eb5050>]"
       ]
      },
      {
       "metadata": {},
       "output_type": "display_data",
       "png": "[encoded data removed]",
       "text": [
        "<matplotlib.figure.Figure at 0x108e81210>"
       ]
      }
     ],
     "prompt_number": 7
    },
    {
     "cell_type": "heading",
     "level": 3,
     "metadata": {},
     "source": [
      "Publishing"
     ]
    },
    {
     "cell_type": "markdown",
     "metadata": {},
     "source": [
      "IPython Notebook contain everything related to a computation and its results: code, narrative text, equations, plots, images, videos, HTML, JavaScript. We have developed tools for \"publishing\" these Notebook documents in different contexts:\n",
      "\n",
      "* **nbconvert**: converts Notebooks to different static formats: HTML, LaTeX, PDF, slideshows.\n",
      "* [nbviewer](http://nbviewer.ipython.org): provides a static HTML view of any Notebook on the internet."
     ]
    },
    {
     "cell_type": "markdown",
     "metadata": {},
     "source": [
      "Let's generate a static PDF of this talk's introduction:"
     ]
    },
    {
     "cell_type": "code",
     "collapsed": false,
     "input": [
      "!ipython nbconvert --to latex --post pdf \"Introduction.ipynb\""
     ],
     "language": "python",
     "metadata": {},
     "outputs": [
      {
       "output_type": "stream",
       "stream": "stdout",
       "text": [
        "[NbConvertApp] Using existing profile dir: u'/Users/bgranger/.ipython/profile_default'\r\n"
       ]
      },
      {
       "output_type": "stream",
       "stream": "stdout",
       "text": [
        "[NbConvertApp] Converting notebook Introduction.ipynb to latex\r\n",
        "[NbConvertApp] Support files will be in Introduction_files/\r\n"
       ]
      },
      {
       "output_type": "stream",
       "stream": "stdout",
       "text": [
        "[NbConvertApp] Loaded template latex_article.tplx\r\n"
       ]
      },
      {
       "output_type": "stream",
       "stream": "stdout",
       "text": [
        "[NbConvertApp] Writing 18540 bytes to Introduction.tex\r\n",
        "[NbConvertApp] Building PDF\r\n",
        "[NbConvertApp] Running pdflatex 3 times: ['pdflatex', 'Introduction.tex']\r\n"
       ]
      },
      {
       "output_type": "stream",
       "stream": "stdout",
       "text": [
        "libpng warning: iCCP: known incorrect sRGB profile\r\n"
       ]
      },
      {
       "output_type": "stream",
       "stream": "stdout",
       "text": [
        "libpng warning: iCCP: known incorrect sRGB profile\r\n"
       ]
      },
      {
       "output_type": "stream",
       "stream": "stdout",
       "text": [
        "libpng warning: iCCP: known incorrect sRGB profile\r\n"
       ]
      },
      {
       "output_type": "stream",
       "stream": "stdout",
       "text": [
        "libpng warning: iCCP: known incorrect sRGB profile\r\n"
       ]
      },
      {
       "output_type": "stream",
       "stream": "stdout",
       "text": [
        "libpng warning: iCCP: known incorrect sRGB profile\r\n"
       ]
      },
      {
       "output_type": "stream",
       "stream": "stdout",
       "text": [
        "libpng warning: iCCP: known incorrect sRGB profile\r\n"
       ]
      },
      {
       "output_type": "stream",
       "stream": "stdout",
       "text": [
        "[NbConvertApp] Running bibtex 1 time: ['bibtex', 'Introduction']\r\n"
       ]
      },
      {
       "output_type": "stream",
       "stream": "stdout",
       "text": [
        "[NbConvertApp] WARNING | bibtex had problems, most likely because there were no citations\r\n",
        "[NbConvertApp] Removing temporary LaTeX files\r\n",
        "[NbConvertApp] PDF successfully created\r\n"
       ]
      }
     ],
     "prompt_number": 13
    },
    {
     "cell_type": "markdown",
     "metadata": {},
     "source": [
      "Here is the nbviewer website:"
     ]
    },
    {
     "cell_type": "code",
     "collapsed": false,
     "input": [
      "website('nbviewer.ipython.org')"
     ],
     "language": "python",
     "metadata": {},
     "outputs": [
      {
       "html": [
        "<iframe src=\"http://nbviewer.ipython.org\"  width=\"800\" height=\"450\">"
       ],
       "metadata": {},
       "output_type": "pyout",
       "prompt_number": 23,
       "text": [
        "<IPython.core.display.HTML at 0x10173f890>"
       ]
      }
     ],
     "prompt_number": 23
    },
    {
     "cell_type": "markdown",
     "metadata": {},
     "source": [
      "We also maintain a [gallery of interesting Notebooks](https://github.com/ipython/ipython/wiki/A-gallery-of-interesting-IPython-Notebooks) that contains a curated list\n",
      "of IPython Notebooks on various topics."
     ]
    },
    {
     "cell_type": "heading",
     "level": 3,
     "metadata": {},
     "source": [
      "Examples of Notebook based publication"
     ]
    },
    {
     "cell_type": "markdown",
     "metadata": {},
     "source": [
      "Cam Davidson-Pilon has written an entire book on Bayesian Statistics as a set of IPython Notebook that are hosted on GitHub and viewed on http://nbviewer.ipython.org."
     ]
    },
    {
     "cell_type": "code",
     "collapsed": false,
     "input": [
      "website('http://camdavidsonpilon.github.io/Probabilistic-Programming-and-Bayesian-Methods-for-Hackers/')"
     ],
     "language": "python",
     "metadata": {},
     "outputs": [
      {
       "html": [
        "<iframe src=\"http://camdavidsonpilon.github.io/Probabilistic-Programming-and-Bayesian-Methods-for-Hackers/\"  width=\"800\" height=\"450\">"
       ],
       "metadata": {},
       "output_type": "pyout",
       "prompt_number": 24,
       "text": [
        "<IPython.core.display.HTML at 0x10173f410>"
       ]
      }
     ],
     "prompt_number": 24
    },
    {
     "cell_type": "markdown",
     "metadata": {},
     "source": [
      "Matthew Russell has written an O'Reilly published book that includes IPython Notebooks for all examples."
     ]
    },
    {
     "cell_type": "code",
     "collapsed": false,
     "input": [
      "website('http://shop.oreilly.com/product/0636920030195.do')"
     ],
     "language": "python",
     "metadata": {},
     "outputs": [
      {
       "html": [
        "<iframe src=\"http://shop.oreilly.com/product/0636920030195.do\"  width=\"800\" height=\"450\">"
       ],
       "metadata": {},
       "output_type": "pyout",
       "prompt_number": 25,
       "text": [
        "<IPython.core.display.HTML at 0x10173f850>"
       ]
      }
     ],
     "prompt_number": 25
    },
    {
     "cell_type": "markdown",
     "metadata": {},
     "source": [
      "Jose Unpingco has written a series of blog posts using the IPython Notebook on Signal Processing. These blog posts were the basis of full length book [Python for Signal Processing](http://www.springer.com/engineering/signals/book/978-3-319-01341-1), Springer (2013)."
     ]
    },
    {
     "cell_type": "code",
     "collapsed": false,
     "input": [
      "website('http://python-for-signal-processing.blogspot.com/')"
     ],
     "language": "python",
     "metadata": {},
     "outputs": [
      {
       "html": [
        "<iframe src=\"http://python-for-signal-processing.blogspot.com/\"  width=\"800\" height=\"450\">"
       ],
       "metadata": {},
       "output_type": "pyout",
       "prompt_number": 26,
       "text": [
        "<IPython.core.display.HTML at 0x10173f7d0>"
       ]
      }
     ],
     "prompt_number": 26
    },
    {
     "cell_type": "markdown",
     "metadata": {},
     "source": [
      "Jake Vanderplas and others publish technical blogs that are authored as IPython Notebooks."
     ]
    },
    {
     "cell_type": "code",
     "collapsed": false,
     "input": [
      "website('http://jakevdp.github.io/blog/2013/08/28/understanding-the-fft/')"
     ],
     "language": "python",
     "metadata": {},
     "outputs": [
      {
       "html": [
        "<iframe src=\"http://jakevdp.github.io/blog/2013/08/28/understanding-the-fft/\"  width=\"800\" height=\"450\">"
       ],
       "metadata": {},
       "output_type": "pyout",
       "prompt_number": 27,
       "text": [
        "<IPython.core.display.HTML at 0x10173f910>"
       ]
      }
     ],
     "prompt_number": 27
    },
    {
     "cell_type": "heading",
     "level": 3,
     "metadata": {},
     "source": [
      "Presenting"
     ]
    },
    {
     "cell_type": "markdown",
     "metadata": {},
     "source": [
      "The IPython Notebook, is being used extensively for presentations on technical topics across a wide range of fields. The Notebook has a cell toolbar for adding slide related metadata to cells. However, we are working on improving this usage case:\n",
      "\n",
      "1. Prototype live presentation mode.\n",
      "2. Use nbconvert to export to [reveal.js](http://lab.hakim.se/reveal-js/#/) based slideshow."
     ]
    },
    {
     "cell_type": "heading",
     "level": 3,
     "metadata": {},
     "source": [
      "Teaching"
     ]
    },
    {
     "cell_type": "markdown",
     "metadata": {},
     "source": [
      "The IPython Notebook is being used for lecture materials and student work in a number of university and high school courses on scientific computing and data science. Most of these courses are being developed publicly on GitHub. Here is a short list:"
     ]
    },
    {
     "cell_type": "code",
     "collapsed": false,
     "input": [
      "%%file courses.csv\n",
      "\"Course\",\"University\",\"Instructor\"\n",
      "\"Data Science (CS 109)\",\"Harvard University\",\"Pfister and Blitzstein\"\n",
      "\"Practical Data Science\",\"NYU\",\"Josh Attenberg\"\n",
      "\"Scientific Computing (ASTR 599)\",\"University of Washington\",\"Jake Vanderplas\"\n",
      "\"Working with Open Data\",\"UC Berkeley\",\"Raymond Yee\"\n",
      "\"Computational Physics\",\"Cal Poly\",\"Jennifer Klay\""
     ],
     "language": "python",
     "metadata": {},
     "outputs": [
      {
       "output_type": "stream",
       "stream": "stdout",
       "text": [
        "Overwriting courses.csv\n"
       ]
      }
     ],
     "prompt_number": 9
    },
    {
     "cell_type": "code",
     "collapsed": false,
     "input": [
      "import pandas"
     ],
     "language": "python",
     "metadata": {},
     "outputs": [],
     "prompt_number": 10
    },
    {
     "cell_type": "code",
     "collapsed": false,
     "input": [
      "df = pandas.read_csv('courses.csv'); df"
     ],
     "language": "python",
     "metadata": {},
     "outputs": [
      {
       "html": [
        "<div style=\"max-height:1000px;max-width:1500px;overflow:auto;\">\n",
        "<table border=\"1\" class=\"dataframe\">\n",
        "  <thead>\n",
        "    <tr style=\"text-align: right;\">\n",
        "      <th></th>\n",
        "      <th>Course</th>\n",
        "      <th>University</th>\n",
        "      <th>Instructor</th>\n",
        "    </tr>\n",
        "  </thead>\n",
        "  <tbody>\n",
        "    <tr>\n",
        "      <th>0</th>\n",
        "      <td>           Data Science (CS 109)</td>\n",
        "      <td>       Harvard University</td>\n",
        "      <td> Pfister and Blitzstein</td>\n",
        "    </tr>\n",
        "    <tr>\n",
        "      <th>1</th>\n",
        "      <td>          Practical Data Science</td>\n",
        "      <td>                      NYU</td>\n",
        "      <td>         Josh Attenberg</td>\n",
        "    </tr>\n",
        "    <tr>\n",
        "      <th>2</th>\n",
        "      <td> Scientific Computing (ASTR 599)</td>\n",
        "      <td> University of Washington</td>\n",
        "      <td>        Jake Vanderplas</td>\n",
        "    </tr>\n",
        "    <tr>\n",
        "      <th>3</th>\n",
        "      <td>          Working with Open Data</td>\n",
        "      <td>              UC Berkeley</td>\n",
        "      <td>            Raymond Yee</td>\n",
        "    </tr>\n",
        "    <tr>\n",
        "      <th>4</th>\n",
        "      <td>           Computational Physics</td>\n",
        "      <td>                 Cal Poly</td>\n",
        "      <td>          Jennifer Klay</td>\n",
        "    </tr>\n",
        "  </tbody>\n",
        "</table>\n",
        "</div>"
       ],
       "metadata": {},
       "output_type": "pyout",
       "prompt_number": 11,
       "text": [
        "                            Course                University              Instructor\n",
        "0            Data Science (CS 109)        Harvard University  Pfister and Blitzstein\n",
        "1           Practical Data Science                       NYU          Josh Attenberg\n",
        "2  Scientific Computing (ASTR 599)  University of Washington         Jake Vanderplas\n",
        "3           Working with Open Data               UC Berkeley             Raymond Yee\n",
        "4            Computational Physics                  Cal Poly           Jennifer Klay"
       ]
      }
     ],
     "prompt_number": 11
    },
    {
     "cell_type": "markdown",
     "metadata": {},
     "source": [
      "In a teaching context it is also important to be able to includes video content. The IPython display architecture makes this simple for YouTube videos."
     ]
    },
    {
     "cell_type": "code",
     "collapsed": false,
     "input": [
      "from IPython.display import YouTubeVideo\n",
      "YouTubeVideo('Jsiy4TxgIME')"
     ],
     "language": "python",
     "metadata": {},
     "outputs": [
      {
       "html": [
        "\n",
        "        <iframe\n",
        "            width=\"400\"\n",
        "            height=300\"\n",
        "            src=\"http://www.youtube.com/embed/Jsiy4TxgIME\"\n",
        "            frameborder=\"0\"\n",
        "            allowfullscreen\n",
        "        ></iframe>\n",
        "        "
       ],
       "metadata": {},
       "output_type": "pyout",
       "prompt_number": 52,
       "text": [
        "<IPython.lib.display.YouTubeVideo at 0x10041fcd0>"
       ]
      }
     ],
     "prompt_number": 52
    },
    {
     "cell_type": "heading",
     "level": 2,
     "metadata": {},
     "source": [
      "Styling"
     ]
    },
    {
     "cell_type": "code",
     "collapsed": false,
     "input": [
      "%load_ext load_style"
     ],
     "language": "python",
     "metadata": {},
     "outputs": [],
     "prompt_number": 1
    },
    {
     "cell_type": "code",
     "collapsed": false,
     "input": [
      "%load_style talk.css"
     ],
     "language": "python",
     "metadata": {},
     "outputs": [
      {
       "html": [
        "<style>\n",
        "\n",
        ".rendered_html {\n",
        "    font-family: \"proxima-nova\", helvetica;\n",
        "    font-size: 150%;\n",
        "    line-height: 1.5;\n",
        "}\n",
        "\n",
        ".rendered_html h1 {\n",
        "    margin: 0.25em 0em 0.5em;\n",
        "    color: #015C9C;\n",
        "    text-align: center;\n",
        "    line-height: 1.2; \n",
        "    page-break-before: always;\n",
        "}\n",
        "\n",
        ".rendered_html h2 {\n",
        "    margin: 1.1em 0em 0.5em;\n",
        "    color: #26465D;\n",
        "    line-height: 1.2;\n",
        "}\n",
        "\n",
        ".rendered_html h3 {\n",
        "    margin: 1.1em 0em 0.5em;\n",
        "    color: #002845;\n",
        "    line-height: 1.2;\n",
        "}\n",
        "\n",
        ".rendered_html li {\n",
        "    line-height: 1.5; \n",
        "}\n",
        "\n",
        "/*.prompt {\n",
        "    font-size: 120%; \n",
        "}*/\n",
        "\n",
        ".CodeMirror-lines {\n",
        "    font-size: 120%; \n",
        "}\n",
        "\n",
        "/*.output_area {\n",
        "    font-size: 120%; \n",
        "}*/\n",
        "\n",
        "#notebook {\n",
        "    background-image: url('files/images/witewall_3.png');\n",
        "}\n",
        "\n",
        "h1.bigtitle {\n",
        "    margin: 4cm 1cm 4cm 1cm;\n",
        "    font-size: 300%;\n",
        "}\n",
        "\n",
        "h3.point {\n",
        "    font-size: 200%;\n",
        "    text-align: center;\n",
        "    margin: 2em 0em 2em 0em;\n",
        "    #26465D\n",
        "}\n",
        "\n",
        ".logo {\n",
        "    margin: 20px 0 20px 0;\n",
        "}\n",
        "\n",
        "a.anchor-link {\n",
        "    display: none;\n",
        "}\n",
        "\n",
        "h1.title { \n",
        "    font-size: 250%;\n",
        "}\n",
        "\n",
        "</style>"
       ],
       "metadata": {},
       "output_type": "display_data",
       "text": [
        "<IPython.core.display.HTML at 0x1065c8fd0>"
       ]
      }
     ],
     "prompt_number": 2
    }
   ],
   "metadata": {}
  }
 ]
}